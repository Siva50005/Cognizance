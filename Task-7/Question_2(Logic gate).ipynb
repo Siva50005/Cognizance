{
 "cells": [
  {
   "cell_type": "markdown",
   "id": "91aa7d01",
   "metadata": {},
   "source": [
    "## Question 2)\n",
    "### Implement the following circuit using single layer perceptron and display the truth table in the form of DataFrame as an output"
   ]
  },
  {
   "cell_type": "markdown",
   "id": "e876ff10",
   "metadata": {},
   "source": [
    "<img src=\"gate.png\" width=\"300\" height=\"150\">"
   ]
  },
  {
   "cell_type": "markdown",
   "id": "3660d711",
   "metadata": {},
   "source": [
    "## Importing the libraries"
   ]
  },
  {
   "cell_type": "code",
   "execution_count": 173,
   "id": "c7a34882",
   "metadata": {},
   "outputs": [],
   "source": [
    "import numpy as np\n",
    "import pandas as pd\n",
    "\n",
    "from sklearn.model_selection import train_test_split\n",
    "from sklearn.metrics import confusion_matrix\n",
    "import matplotlib.pyplot as plt"
   ]
  },
  {
   "cell_type": "markdown",
   "id": "15f32480",
   "metadata": {},
   "source": [
    "## Creating a perceptron"
   ]
  },
  {
   "cell_type": "code",
   "execution_count": 174,
   "id": "ba379a55",
   "metadata": {},
   "outputs": [],
   "source": [
    "class Perceptron:\n",
    "    def __init__(self, learning_rate=0.001, n_iters=1000):\n",
    "        self.lr = learning_rate\n",
    "        self.n_iters = n_iters\n",
    "        self.activation_func = self.unit_step_func\n",
    "        self.weights = None\n",
    "        self.bias = None\n",
    "    \n",
    "    \n",
    "    def fit(self, X, y):\n",
    "        n_samples, n_features = X.shape\n",
    "        \n",
    "        #initial weights\n",
    "        self.weights = np.zeros(n_features)\n",
    "        self.bias = 0\n",
    "        \n",
    "        y_ = np.array([1 if i > 0 else 0 for i in y])\n",
    "        \n",
    "        for _ in range(self.n_iters):\n",
    "            for idx, x_i in enumerate(X):\n",
    "                linear_output = np.dot(x_i, self.weights) + self.bias\n",
    "                y_predicted = self.activation_func(linear_output)\n",
    "                \n",
    "                \n",
    "                update = self.lr * (y_[idx] - y_predicted)\n",
    "                self.weights += update * x_i\n",
    "                self.bias += update\n",
    "                \n",
    "    \n",
    "    def predict(self, X):\n",
    "        linear_output = np.dot(X, self.weights) + self.bias\n",
    "        y_predicted = self.activation_func(linear_output)\n",
    "        return y_predicted\n",
    "    \n",
    "    \n",
    "    def unit_step_func(self, x):\n",
    "        return np.where(x>=0.5, 1, 0)"
   ]
  },
  {
   "cell_type": "markdown",
   "id": "ac1a7f94",
   "metadata": {},
   "source": [
    "## Functions for performance metrics"
   ]
  },
  {
   "cell_type": "code",
   "execution_count": 175,
   "id": "7168fcba",
   "metadata": {},
   "outputs": [],
   "source": [
    "def accuracy(y_true, y_pred):\n",
    "    accuracy = np.sum(y_true == y_pred) / len(y_true)\n",
    "    return accuracy"
   ]
  },
  {
   "cell_type": "markdown",
   "id": "2171ba65",
   "metadata": {},
   "source": [
    "## Creating the datasets for Different logic gates"
   ]
  },
  {
   "cell_type": "markdown",
   "id": "344a634a",
   "metadata": {},
   "source": [
    "#### Dataset for AND gate"
   ]
  },
  {
   "cell_type": "code",
   "execution_count": 176,
   "id": "1df03ef7",
   "metadata": {},
   "outputs": [],
   "source": [
    "vals_1 = [[0, 0, 0],\n",
    "         [0, 1, 0],\n",
    "         [1, 0, 0],\n",
    "         [1, 1, 1]]"
   ]
  },
  {
   "cell_type": "code",
   "execution_count": 177,
   "id": "0c18d6b6",
   "metadata": {},
   "outputs": [],
   "source": [
    "AND = pd.DataFrame(vals_1, columns=['A', 'B', 'Y'], index=[1, 2, 3, 4])"
   ]
  },
  {
   "cell_type": "code",
   "execution_count": 178,
   "id": "af942bad",
   "metadata": {},
   "outputs": [
    {
     "data": {
      "text/html": [
       "<div>\n",
       "<style scoped>\n",
       "    .dataframe tbody tr th:only-of-type {\n",
       "        vertical-align: middle;\n",
       "    }\n",
       "\n",
       "    .dataframe tbody tr th {\n",
       "        vertical-align: top;\n",
       "    }\n",
       "\n",
       "    .dataframe thead th {\n",
       "        text-align: right;\n",
       "    }\n",
       "</style>\n",
       "<table border=\"1\" class=\"dataframe\">\n",
       "  <thead>\n",
       "    <tr style=\"text-align: right;\">\n",
       "      <th></th>\n",
       "      <th>A</th>\n",
       "      <th>B</th>\n",
       "      <th>Y</th>\n",
       "    </tr>\n",
       "  </thead>\n",
       "  <tbody>\n",
       "    <tr>\n",
       "      <th>1</th>\n",
       "      <td>0</td>\n",
       "      <td>0</td>\n",
       "      <td>0</td>\n",
       "    </tr>\n",
       "    <tr>\n",
       "      <th>2</th>\n",
       "      <td>0</td>\n",
       "      <td>1</td>\n",
       "      <td>0</td>\n",
       "    </tr>\n",
       "    <tr>\n",
       "      <th>3</th>\n",
       "      <td>1</td>\n",
       "      <td>0</td>\n",
       "      <td>0</td>\n",
       "    </tr>\n",
       "    <tr>\n",
       "      <th>4</th>\n",
       "      <td>1</td>\n",
       "      <td>1</td>\n",
       "      <td>1</td>\n",
       "    </tr>\n",
       "  </tbody>\n",
       "</table>\n",
       "</div>"
      ],
      "text/plain": [
       "   A  B  Y\n",
       "1  0  0  0\n",
       "2  0  1  0\n",
       "3  1  0  0\n",
       "4  1  1  1"
      ]
     },
     "execution_count": 178,
     "metadata": {},
     "output_type": "execute_result"
    }
   ],
   "source": [
    "AND.head()"
   ]
  },
  {
   "cell_type": "markdown",
   "id": "1b918a98",
   "metadata": {},
   "source": [
    "#### Dataset for OR gate"
   ]
  },
  {
   "cell_type": "code",
   "execution_count": 179,
   "id": "8a71be47",
   "metadata": {},
   "outputs": [],
   "source": [
    "vals_2 = [[0, 0, 0],\n",
    "         [0, 1, 1],\n",
    "         [1, 0, 1],\n",
    "         [1, 1, 1]]"
   ]
  },
  {
   "cell_type": "code",
   "execution_count": 180,
   "id": "a26426f2",
   "metadata": {},
   "outputs": [],
   "source": [
    "OR = pd.DataFrame(vals_2, columns=['A', 'B', 'Y'], index=[1, 2, 3, 4])"
   ]
  },
  {
   "cell_type": "code",
   "execution_count": 181,
   "id": "b9434f6f",
   "metadata": {},
   "outputs": [
    {
     "data": {
      "text/html": [
       "<div>\n",
       "<style scoped>\n",
       "    .dataframe tbody tr th:only-of-type {\n",
       "        vertical-align: middle;\n",
       "    }\n",
       "\n",
       "    .dataframe tbody tr th {\n",
       "        vertical-align: top;\n",
       "    }\n",
       "\n",
       "    .dataframe thead th {\n",
       "        text-align: right;\n",
       "    }\n",
       "</style>\n",
       "<table border=\"1\" class=\"dataframe\">\n",
       "  <thead>\n",
       "    <tr style=\"text-align: right;\">\n",
       "      <th></th>\n",
       "      <th>A</th>\n",
       "      <th>B</th>\n",
       "      <th>Y</th>\n",
       "    </tr>\n",
       "  </thead>\n",
       "  <tbody>\n",
       "    <tr>\n",
       "      <th>1</th>\n",
       "      <td>0</td>\n",
       "      <td>0</td>\n",
       "      <td>0</td>\n",
       "    </tr>\n",
       "    <tr>\n",
       "      <th>2</th>\n",
       "      <td>0</td>\n",
       "      <td>1</td>\n",
       "      <td>1</td>\n",
       "    </tr>\n",
       "    <tr>\n",
       "      <th>3</th>\n",
       "      <td>1</td>\n",
       "      <td>0</td>\n",
       "      <td>1</td>\n",
       "    </tr>\n",
       "    <tr>\n",
       "      <th>4</th>\n",
       "      <td>1</td>\n",
       "      <td>1</td>\n",
       "      <td>1</td>\n",
       "    </tr>\n",
       "  </tbody>\n",
       "</table>\n",
       "</div>"
      ],
      "text/plain": [
       "   A  B  Y\n",
       "1  0  0  0\n",
       "2  0  1  1\n",
       "3  1  0  1\n",
       "4  1  1  1"
      ]
     },
     "execution_count": 181,
     "metadata": {},
     "output_type": "execute_result"
    }
   ],
   "source": [
    "OR.head()"
   ]
  },
  {
   "cell_type": "markdown",
   "id": "7486a70a",
   "metadata": {},
   "source": [
    "#### Dataset for OR gate"
   ]
  },
  {
   "cell_type": "code",
   "execution_count": 182,
   "id": "d1862f07",
   "metadata": {},
   "outputs": [],
   "source": [
    "vals_3 = [[0, 1],\n",
    "         [1, 0]]"
   ]
  },
  {
   "cell_type": "code",
   "execution_count": 183,
   "id": "128bc49d",
   "metadata": {},
   "outputs": [],
   "source": [
    "NOT = pd.DataFrame(vals_3, columns=['A', 'Y'], index=[1, 2])"
   ]
  },
  {
   "cell_type": "code",
   "execution_count": 184,
   "id": "9cbc7e5a",
   "metadata": {},
   "outputs": [
    {
     "data": {
      "text/html": [
       "<div>\n",
       "<style scoped>\n",
       "    .dataframe tbody tr th:only-of-type {\n",
       "        vertical-align: middle;\n",
       "    }\n",
       "\n",
       "    .dataframe tbody tr th {\n",
       "        vertical-align: top;\n",
       "    }\n",
       "\n",
       "    .dataframe thead th {\n",
       "        text-align: right;\n",
       "    }\n",
       "</style>\n",
       "<table border=\"1\" class=\"dataframe\">\n",
       "  <thead>\n",
       "    <tr style=\"text-align: right;\">\n",
       "      <th></th>\n",
       "      <th>A</th>\n",
       "      <th>Y</th>\n",
       "    </tr>\n",
       "  </thead>\n",
       "  <tbody>\n",
       "    <tr>\n",
       "      <th>1</th>\n",
       "      <td>0</td>\n",
       "      <td>1</td>\n",
       "    </tr>\n",
       "    <tr>\n",
       "      <th>2</th>\n",
       "      <td>1</td>\n",
       "      <td>0</td>\n",
       "    </tr>\n",
       "  </tbody>\n",
       "</table>\n",
       "</div>"
      ],
      "text/plain": [
       "   A  Y\n",
       "1  0  1\n",
       "2  1  0"
      ]
     },
     "execution_count": 184,
     "metadata": {},
     "output_type": "execute_result"
    }
   ],
   "source": [
    "NOT.head()"
   ]
  },
  {
   "cell_type": "markdown",
   "id": "a77240de",
   "metadata": {},
   "source": [
    "## Creating a sperate target variable for all gates"
   ]
  },
  {
   "cell_type": "code",
   "execution_count": 185,
   "id": "22373f8c",
   "metadata": {},
   "outputs": [],
   "source": [
    "Y1 = AND.Y\n",
    "Y2 = OR.Y\n",
    "Y3 = NOT.Y"
   ]
  },
  {
   "cell_type": "code",
   "execution_count": 186,
   "id": "4e2d50c9",
   "metadata": {},
   "outputs": [],
   "source": [
    "X1 = AND.drop(['Y'], axis=1)\n",
    "X2 = OR.drop(['Y'], axis=1)\n",
    "X3 = NOT.drop(['Y'], axis=1)"
   ]
  },
  {
   "cell_type": "code",
   "execution_count": 187,
   "id": "cc798fcc",
   "metadata": {},
   "outputs": [],
   "source": [
    "X1 = np.array(X1)\n",
    "Y1 = np.array(Y1)\n",
    "\n",
    "X2 = np.array(X2)\n",
    "Y2 = np.array(Y2)\n",
    "\n",
    "X3 = np.array(X3)\n",
    "Y3 = np.array(Y3)"
   ]
  },
  {
   "cell_type": "markdown",
   "id": "457ee521",
   "metadata": {},
   "source": [
    "## Training the perceptrons"
   ]
  },
  {
   "cell_type": "code",
   "execution_count": 190,
   "id": "455d63d1",
   "metadata": {},
   "outputs": [],
   "source": [
    "percy_and = Perceptron(learning_rate=0.1, n_iters=100)\n",
    "percy_or = Perceptron(learning_rate=0.1, n_iters=100)\n",
    "percy_not = Perceptron(learning_rate=0.1, n_iters=100)"
   ]
  },
  {
   "cell_type": "code",
   "execution_count": 191,
   "id": "3f1e91c7",
   "metadata": {},
   "outputs": [],
   "source": [
    "percy_and.fit(X1, Y1)\n",
    "percy_or.fit(X2, Y2)\n",
    "percy_not.fit(X3, Y3)"
   ]
  },
  {
   "cell_type": "code",
   "execution_count": 192,
   "id": "49c2909a",
   "metadata": {},
   "outputs": [],
   "source": [
    "pred1 = percy_and.predict(X1)\n",
    "pred2 = percy_or.predict(X2)\n",
    "pred3 = percy_not.predict(X3)"
   ]
  },
  {
   "cell_type": "markdown",
   "id": "fdb6a0ec",
   "metadata": {},
   "source": [
    "## Creating the model for the given logic gate"
   ]
  },
  {
   "cell_type": "code",
   "execution_count": 193,
   "id": "606687f8",
   "metadata": {},
   "outputs": [],
   "source": [
    "def logicNet(x1, x2, x3):\n",
    "    # output of two not gates\n",
    "    res1 = percy_not.predict(np.array(x3))\n",
    "    res2 = percy_not.predict(np.array(x2))\n",
    "    \n",
    "    res3 = percy_and.predict(np.array([x1, res1[0]]))\n",
    "    res4 = percy_and.predict(np.array([x3, res2[0]]))\n",
    "    \n",
    "    final_res = percy_or.predict(np.array([res3, res4]))\n",
    "    \n",
    "    return final_res  "
   ]
  },
  {
   "cell_type": "markdown",
   "id": "fac0272b",
   "metadata": {},
   "source": [
    "## Evaluating the test results"
   ]
  },
  {
   "cell_type": "code",
   "execution_count": 194,
   "id": "c0e6704c",
   "metadata": {},
   "outputs": [],
   "source": [
    "X_TEST = np.array([[0, 0, 0],\n",
    "                 [0, 0, 1],\n",
    "                 [0, 1, 0],\n",
    "                 [0, 1, 1],\n",
    "                 [1, 0, 0],\n",
    "                 [1, 0, 1],\n",
    "                 [1, 1, 0],\n",
    "                 [1, 1, 1]])"
   ]
  },
  {
   "cell_type": "code",
   "execution_count": 195,
   "id": "9a6375d3",
   "metadata": {},
   "outputs": [],
   "source": [
    "test_res = []"
   ]
  },
  {
   "cell_type": "code",
   "execution_count": 196,
   "id": "73051c8d",
   "metadata": {},
   "outputs": [],
   "source": [
    "for i in range(0, 8):\n",
    "    res = logicNet(X_TEST[i][0], X_TEST[i][1], X_TEST[i][2])\n",
    "    test_res.append(res.item())"
   ]
  },
  {
   "cell_type": "code",
   "execution_count": 197,
   "id": "4a422018",
   "metadata": {},
   "outputs": [
    {
     "data": {
      "text/plain": [
       "[0, 1, 0, 0, 1, 1, 1, 0]"
      ]
     },
     "execution_count": 197,
     "metadata": {},
     "output_type": "execute_result"
    }
   ],
   "source": [
    "test_res"
   ]
  },
  {
   "cell_type": "code",
   "execution_count": 198,
   "id": "cfc069b9",
   "metadata": {},
   "outputs": [],
   "source": [
    "Y_O = {'Y': test_res}"
   ]
  },
  {
   "cell_type": "code",
   "execution_count": 199,
   "id": "be1914b9",
   "metadata": {},
   "outputs": [],
   "source": [
    "FINAL = pd.DataFrame(X_TEST, columns=['A', 'B', 'C'])"
   ]
  },
  {
   "cell_type": "code",
   "execution_count": 200,
   "id": "2d2f09d6",
   "metadata": {},
   "outputs": [],
   "source": [
    "FINAL['Y'] = test_res"
   ]
  },
  {
   "cell_type": "markdown",
   "id": "abe4b1cd",
   "metadata": {},
   "source": [
    "#### --------------------------------------- FINAL TRUTH TABLE AS DATAFRAME --------------------------------------"
   ]
  },
  {
   "cell_type": "code",
   "execution_count": 201,
   "id": "4cc417bb",
   "metadata": {
    "scrolled": true
   },
   "outputs": [
    {
     "data": {
      "text/html": [
       "<div>\n",
       "<style scoped>\n",
       "    .dataframe tbody tr th:only-of-type {\n",
       "        vertical-align: middle;\n",
       "    }\n",
       "\n",
       "    .dataframe tbody tr th {\n",
       "        vertical-align: top;\n",
       "    }\n",
       "\n",
       "    .dataframe thead th {\n",
       "        text-align: right;\n",
       "    }\n",
       "</style>\n",
       "<table border=\"1\" class=\"dataframe\">\n",
       "  <thead>\n",
       "    <tr style=\"text-align: right;\">\n",
       "      <th></th>\n",
       "      <th>A</th>\n",
       "      <th>B</th>\n",
       "      <th>C</th>\n",
       "      <th>Y</th>\n",
       "    </tr>\n",
       "  </thead>\n",
       "  <tbody>\n",
       "    <tr>\n",
       "      <th>0</th>\n",
       "      <td>0</td>\n",
       "      <td>0</td>\n",
       "      <td>0</td>\n",
       "      <td>0</td>\n",
       "    </tr>\n",
       "    <tr>\n",
       "      <th>1</th>\n",
       "      <td>0</td>\n",
       "      <td>0</td>\n",
       "      <td>1</td>\n",
       "      <td>1</td>\n",
       "    </tr>\n",
       "    <tr>\n",
       "      <th>2</th>\n",
       "      <td>0</td>\n",
       "      <td>1</td>\n",
       "      <td>0</td>\n",
       "      <td>0</td>\n",
       "    </tr>\n",
       "    <tr>\n",
       "      <th>3</th>\n",
       "      <td>0</td>\n",
       "      <td>1</td>\n",
       "      <td>1</td>\n",
       "      <td>0</td>\n",
       "    </tr>\n",
       "    <tr>\n",
       "      <th>4</th>\n",
       "      <td>1</td>\n",
       "      <td>0</td>\n",
       "      <td>0</td>\n",
       "      <td>1</td>\n",
       "    </tr>\n",
       "    <tr>\n",
       "      <th>5</th>\n",
       "      <td>1</td>\n",
       "      <td>0</td>\n",
       "      <td>1</td>\n",
       "      <td>1</td>\n",
       "    </tr>\n",
       "    <tr>\n",
       "      <th>6</th>\n",
       "      <td>1</td>\n",
       "      <td>1</td>\n",
       "      <td>0</td>\n",
       "      <td>1</td>\n",
       "    </tr>\n",
       "    <tr>\n",
       "      <th>7</th>\n",
       "      <td>1</td>\n",
       "      <td>1</td>\n",
       "      <td>1</td>\n",
       "      <td>0</td>\n",
       "    </tr>\n",
       "  </tbody>\n",
       "</table>\n",
       "</div>"
      ],
      "text/plain": [
       "   A  B  C  Y\n",
       "0  0  0  0  0\n",
       "1  0  0  1  1\n",
       "2  0  1  0  0\n",
       "3  0  1  1  0\n",
       "4  1  0  0  1\n",
       "5  1  0  1  1\n",
       "6  1  1  0  1\n",
       "7  1  1  1  0"
      ]
     },
     "execution_count": 201,
     "metadata": {},
     "output_type": "execute_result"
    }
   ],
   "source": [
    "FINAL"
   ]
  },
  {
   "cell_type": "code",
   "execution_count": null,
   "id": "1fd2f330",
   "metadata": {},
   "outputs": [],
   "source": []
  }
 ],
 "metadata": {
  "kernelspec": {
   "display_name": "Python 3 (ipykernel)",
   "language": "python",
   "name": "python3"
  },
  "language_info": {
   "codemirror_mode": {
    "name": "ipython",
    "version": 3
   },
   "file_extension": ".py",
   "mimetype": "text/x-python",
   "name": "python",
   "nbconvert_exporter": "python",
   "pygments_lexer": "ipython3",
   "version": "3.9.12"
  }
 },
 "nbformat": 4,
 "nbformat_minor": 5
}
