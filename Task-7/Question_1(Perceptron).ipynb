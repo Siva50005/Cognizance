{
 "cells": [
  {
   "cell_type": "markdown",
   "id": "91aa7d01",
   "metadata": {},
   "source": [
    "## Question 1)\n",
    "### Create a single layer perceptron model to implement a binary classifier using python"
   ]
  },
  {
   "cell_type": "markdown",
   "id": "3660d711",
   "metadata": {},
   "source": [
    "## Importing the libraries"
   ]
  },
  {
   "cell_type": "code",
   "execution_count": 195,
   "id": "c7a34882",
   "metadata": {},
   "outputs": [],
   "source": [
    "import numpy as np\n",
    "import pandas as pd\n",
    "\n",
    "from sklearn.model_selection import train_test_split\n",
    "from sklearn.metrics import confusion_matrix\n",
    "import matplotlib.pyplot as plt"
   ]
  },
  {
   "cell_type": "markdown",
   "id": "15f32480",
   "metadata": {},
   "source": [
    "## Creating a perceptron"
   ]
  },
  {
   "cell_type": "code",
   "execution_count": 196,
   "id": "ba379a55",
   "metadata": {},
   "outputs": [],
   "source": [
    "class Perceptron:\n",
    "    def __init__(self, learning_rate=0.001, n_iters=1000):\n",
    "        self.lr = learning_rate\n",
    "        self.n_iters = n_iters\n",
    "        self.activation_func = self.unit_step_func\n",
    "        self.weights = None\n",
    "        self.bias = None\n",
    "    \n",
    "    \n",
    "    def fit(self, X, y):\n",
    "        n_samples, n_features = X.shape\n",
    "        \n",
    "        #initial weights\n",
    "        self.weights = np.zeros(n_features)\n",
    "        self.bias = 0\n",
    "        \n",
    "        y_ = np.array([1 if i > 0 else 0 for i in y])\n",
    "        \n",
    "        for _ in range(self.n_iters):\n",
    "            for idx, x_i in enumerate(X):\n",
    "                linear_output = np.dot(x_i, self.weights) + self.bias\n",
    "                y_predicted = self.activation_func(linear_output)\n",
    "                \n",
    "                \n",
    "                update = self.lr * (y_[idx] - y_predicted)\n",
    "                self.weights += update * x_i\n",
    "                self.bias += update\n",
    "                \n",
    "    \n",
    "    def predict(self, X):\n",
    "        linear_output = np.dot(X, self.weights) + self.bias\n",
    "        y_predicted = self.activation_func(linear_output)\n",
    "        return y_predicted\n",
    "    \n",
    "    \n",
    "    def unit_step_func(self, x):\n",
    "        return np.where(x>=0.5, 1, 0)"
   ]
  },
  {
   "cell_type": "markdown",
   "id": "ac1a7f94",
   "metadata": {},
   "source": [
    "## Functions for performance metrics"
   ]
  },
  {
   "cell_type": "code",
   "execution_count": 197,
   "id": "7168fcba",
   "metadata": {},
   "outputs": [],
   "source": [
    "def accuracy(y_true, y_pred):\n",
    "    accuracy = np.sum(y_true == y_pred) / len(y_true)\n",
    "    return accuracy"
   ]
  },
  {
   "cell_type": "markdown",
   "id": "2171ba65",
   "metadata": {},
   "source": [
    "## Loading the dataset"
   ]
  },
  {
   "cell_type": "code",
   "execution_count": 198,
   "id": "0c18d6b6",
   "metadata": {},
   "outputs": [],
   "source": [
    "df = pd.read_csv(\"Datasets/Iris.csv\")"
   ]
  },
  {
   "cell_type": "code",
   "execution_count": 199,
   "id": "af942bad",
   "metadata": {},
   "outputs": [
    {
     "data": {
      "text/html": [
       "<div>\n",
       "<style scoped>\n",
       "    .dataframe tbody tr th:only-of-type {\n",
       "        vertical-align: middle;\n",
       "    }\n",
       "\n",
       "    .dataframe tbody tr th {\n",
       "        vertical-align: top;\n",
       "    }\n",
       "\n",
       "    .dataframe thead th {\n",
       "        text-align: right;\n",
       "    }\n",
       "</style>\n",
       "<table border=\"1\" class=\"dataframe\">\n",
       "  <thead>\n",
       "    <tr style=\"text-align: right;\">\n",
       "      <th></th>\n",
       "      <th>Id</th>\n",
       "      <th>SepalLengthCm</th>\n",
       "      <th>SepalWidthCm</th>\n",
       "      <th>PetalLengthCm</th>\n",
       "      <th>PetalWidthCm</th>\n",
       "      <th>Species</th>\n",
       "    </tr>\n",
       "  </thead>\n",
       "  <tbody>\n",
       "    <tr>\n",
       "      <th>0</th>\n",
       "      <td>1</td>\n",
       "      <td>5.1</td>\n",
       "      <td>3.5</td>\n",
       "      <td>1.4</td>\n",
       "      <td>0.2</td>\n",
       "      <td>Iris-setosa</td>\n",
       "    </tr>\n",
       "    <tr>\n",
       "      <th>1</th>\n",
       "      <td>2</td>\n",
       "      <td>4.9</td>\n",
       "      <td>3.0</td>\n",
       "      <td>1.4</td>\n",
       "      <td>0.2</td>\n",
       "      <td>Iris-setosa</td>\n",
       "    </tr>\n",
       "    <tr>\n",
       "      <th>2</th>\n",
       "      <td>3</td>\n",
       "      <td>4.7</td>\n",
       "      <td>3.2</td>\n",
       "      <td>1.3</td>\n",
       "      <td>0.2</td>\n",
       "      <td>Iris-setosa</td>\n",
       "    </tr>\n",
       "    <tr>\n",
       "      <th>3</th>\n",
       "      <td>4</td>\n",
       "      <td>4.6</td>\n",
       "      <td>3.1</td>\n",
       "      <td>1.5</td>\n",
       "      <td>0.2</td>\n",
       "      <td>Iris-setosa</td>\n",
       "    </tr>\n",
       "    <tr>\n",
       "      <th>4</th>\n",
       "      <td>5</td>\n",
       "      <td>5.0</td>\n",
       "      <td>3.6</td>\n",
       "      <td>1.4</td>\n",
       "      <td>0.2</td>\n",
       "      <td>Iris-setosa</td>\n",
       "    </tr>\n",
       "  </tbody>\n",
       "</table>\n",
       "</div>"
      ],
      "text/plain": [
       "   Id  SepalLengthCm  SepalWidthCm  PetalLengthCm  PetalWidthCm      Species\n",
       "0   1            5.1           3.5            1.4           0.2  Iris-setosa\n",
       "1   2            4.9           3.0            1.4           0.2  Iris-setosa\n",
       "2   3            4.7           3.2            1.3           0.2  Iris-setosa\n",
       "3   4            4.6           3.1            1.5           0.2  Iris-setosa\n",
       "4   5            5.0           3.6            1.4           0.2  Iris-setosa"
      ]
     },
     "execution_count": 199,
     "metadata": {},
     "output_type": "execute_result"
    }
   ],
   "source": [
    "df.head()"
   ]
  },
  {
   "cell_type": "code",
   "execution_count": 200,
   "id": "695db875",
   "metadata": {},
   "outputs": [
    {
     "data": {
      "text/plain": [
       "array(['Iris-setosa', 'Iris-versicolor', 'Iris-virginica'], dtype=object)"
      ]
     },
     "execution_count": 200,
     "metadata": {},
     "output_type": "execute_result"
    }
   ],
   "source": [
    "df[\"Species\"].unique()"
   ]
  },
  {
   "cell_type": "code",
   "execution_count": 201,
   "id": "ae54c8f8",
   "metadata": {},
   "outputs": [
    {
     "data": {
      "text/plain": [
       "(150, 6)"
      ]
     },
     "execution_count": 201,
     "metadata": {},
     "output_type": "execute_result"
    }
   ],
   "source": [
    "df.shape"
   ]
  },
  {
   "cell_type": "code",
   "execution_count": 202,
   "id": "208e3463",
   "metadata": {},
   "outputs": [],
   "source": [
    "iris = df[df.Species != \"Iris-setosa\"]"
   ]
  },
  {
   "cell_type": "code",
   "execution_count": 203,
   "id": "438cae70",
   "metadata": {},
   "outputs": [
    {
     "data": {
      "text/plain": [
       "(100, 6)"
      ]
     },
     "execution_count": 203,
     "metadata": {},
     "output_type": "execute_result"
    }
   ],
   "source": [
    "iris.shape"
   ]
  },
  {
   "cell_type": "code",
   "execution_count": 204,
   "id": "b8864080",
   "metadata": {},
   "outputs": [
    {
     "data": {
      "text/plain": [
       "array(['Iris-versicolor', 'Iris-virginica'], dtype=object)"
      ]
     },
     "execution_count": 204,
     "metadata": {},
     "output_type": "execute_result"
    }
   ],
   "source": [
    "iris[\"Species\"].unique()"
   ]
  },
  {
   "cell_type": "code",
   "execution_count": 205,
   "id": "89589f79",
   "metadata": {},
   "outputs": [
    {
     "data": {
      "text/plain": [
       "Id               0\n",
       "SepalLengthCm    0\n",
       "SepalWidthCm     0\n",
       "PetalLengthCm    0\n",
       "PetalWidthCm     0\n",
       "Species          0\n",
       "dtype: int64"
      ]
     },
     "execution_count": 205,
     "metadata": {},
     "output_type": "execute_result"
    }
   ],
   "source": [
    "iris.isnull().sum()"
   ]
  },
  {
   "cell_type": "markdown",
   "id": "a77240de",
   "metadata": {},
   "source": [
    "## Creating a sperate target variable"
   ]
  },
  {
   "cell_type": "code",
   "execution_count": 206,
   "id": "22373f8c",
   "metadata": {},
   "outputs": [
    {
     "data": {
      "text/plain": [
       "50    Iris-versicolor\n",
       "51    Iris-versicolor\n",
       "52    Iris-versicolor\n",
       "53    Iris-versicolor\n",
       "54    Iris-versicolor\n",
       "Name: Species, dtype: object"
      ]
     },
     "execution_count": 206,
     "metadata": {},
     "output_type": "execute_result"
    }
   ],
   "source": [
    "Y = iris.Species\n",
    "Y.head()"
   ]
  },
  {
   "cell_type": "code",
   "execution_count": 207,
   "id": "d99fb028",
   "metadata": {},
   "outputs": [
    {
     "data": {
      "text/plain": [
       "array(['Iris-versicolor', 'Iris-virginica'], dtype=object)"
      ]
     },
     "execution_count": 207,
     "metadata": {},
     "output_type": "execute_result"
    }
   ],
   "source": [
    "Y.unique()"
   ]
  },
  {
   "cell_type": "code",
   "execution_count": 208,
   "id": "c74e2c73",
   "metadata": {},
   "outputs": [
    {
     "data": {
      "text/plain": [
       "50    0\n",
       "51    0\n",
       "52    0\n",
       "53    0\n",
       "54    0\n",
       "Name: Species, dtype: int64"
      ]
     },
     "execution_count": 208,
     "metadata": {},
     "output_type": "execute_result"
    }
   ],
   "source": [
    "Y = Y.map({'Iris-versicolor': 0, 'Iris-virginica': 1})\n",
    "Y.head()"
   ]
  },
  {
   "cell_type": "code",
   "execution_count": 209,
   "id": "96901642",
   "metadata": {},
   "outputs": [],
   "source": [
    "iris = iris.drop(['Species', 'Id'], axis=1)"
   ]
  },
  {
   "cell_type": "code",
   "execution_count": 210,
   "id": "4cb4735a",
   "metadata": {},
   "outputs": [
    {
     "data": {
      "text/html": [
       "<div>\n",
       "<style scoped>\n",
       "    .dataframe tbody tr th:only-of-type {\n",
       "        vertical-align: middle;\n",
       "    }\n",
       "\n",
       "    .dataframe tbody tr th {\n",
       "        vertical-align: top;\n",
       "    }\n",
       "\n",
       "    .dataframe thead th {\n",
       "        text-align: right;\n",
       "    }\n",
       "</style>\n",
       "<table border=\"1\" class=\"dataframe\">\n",
       "  <thead>\n",
       "    <tr style=\"text-align: right;\">\n",
       "      <th></th>\n",
       "      <th>SepalLengthCm</th>\n",
       "      <th>SepalWidthCm</th>\n",
       "      <th>PetalLengthCm</th>\n",
       "      <th>PetalWidthCm</th>\n",
       "    </tr>\n",
       "  </thead>\n",
       "  <tbody>\n",
       "    <tr>\n",
       "      <th>50</th>\n",
       "      <td>7.0</td>\n",
       "      <td>3.2</td>\n",
       "      <td>4.7</td>\n",
       "      <td>1.4</td>\n",
       "    </tr>\n",
       "    <tr>\n",
       "      <th>51</th>\n",
       "      <td>6.4</td>\n",
       "      <td>3.2</td>\n",
       "      <td>4.5</td>\n",
       "      <td>1.5</td>\n",
       "    </tr>\n",
       "    <tr>\n",
       "      <th>52</th>\n",
       "      <td>6.9</td>\n",
       "      <td>3.1</td>\n",
       "      <td>4.9</td>\n",
       "      <td>1.5</td>\n",
       "    </tr>\n",
       "    <tr>\n",
       "      <th>53</th>\n",
       "      <td>5.5</td>\n",
       "      <td>2.3</td>\n",
       "      <td>4.0</td>\n",
       "      <td>1.3</td>\n",
       "    </tr>\n",
       "    <tr>\n",
       "      <th>54</th>\n",
       "      <td>6.5</td>\n",
       "      <td>2.8</td>\n",
       "      <td>4.6</td>\n",
       "      <td>1.5</td>\n",
       "    </tr>\n",
       "  </tbody>\n",
       "</table>\n",
       "</div>"
      ],
      "text/plain": [
       "    SepalLengthCm  SepalWidthCm  PetalLengthCm  PetalWidthCm\n",
       "50            7.0           3.2            4.7           1.4\n",
       "51            6.4           3.2            4.5           1.5\n",
       "52            6.9           3.1            4.9           1.5\n",
       "53            5.5           2.3            4.0           1.3\n",
       "54            6.5           2.8            4.6           1.5"
      ]
     },
     "execution_count": 210,
     "metadata": {},
     "output_type": "execute_result"
    }
   ],
   "source": [
    "iris.head()"
   ]
  },
  {
   "cell_type": "code",
   "execution_count": 211,
   "id": "08fab513",
   "metadata": {},
   "outputs": [],
   "source": [
    "X = iris"
   ]
  },
  {
   "cell_type": "code",
   "execution_count": 212,
   "id": "b58d52aa",
   "metadata": {},
   "outputs": [],
   "source": [
    "X = np.array(X)\n",
    "y = np.array(Y)"
   ]
  },
  {
   "cell_type": "markdown",
   "id": "a9192336",
   "metadata": {},
   "source": [
    "## Splitting the dataset into training and test data"
   ]
  },
  {
   "cell_type": "code",
   "execution_count": 213,
   "id": "b8c5a3d7",
   "metadata": {},
   "outputs": [],
   "source": [
    "X_train, X_test, y_train, y_test = train_test_split(X, Y, test_size = 0.3, random_state=72)"
   ]
  },
  {
   "cell_type": "code",
   "execution_count": 214,
   "id": "50c82822",
   "metadata": {},
   "outputs": [
    {
     "name": "stdout",
     "output_type": "stream",
     "text": [
      "X_train: (70, 4)\n",
      "X_test: (30, 4)\n",
      "y_train: (70,)\n",
      "y_test: (30,)\n"
     ]
    }
   ],
   "source": [
    "print(f\"X_train: {X_train.shape}\")\n",
    "print(f\"X_test: {X_test.shape}\")\n",
    "print(f\"y_train: {y_train.shape}\")\n",
    "print(f\"y_test: {y_test.shape}\")"
   ]
  },
  {
   "cell_type": "markdown",
   "id": "457ee521",
   "metadata": {},
   "source": [
    "## Training the perceptron"
   ]
  },
  {
   "cell_type": "code",
   "execution_count": 215,
   "id": "455d63d1",
   "metadata": {},
   "outputs": [],
   "source": [
    "percy = Perceptron(learning_rate=0.001, n_iters=2000)"
   ]
  },
  {
   "cell_type": "code",
   "execution_count": 216,
   "id": "3f1e91c7",
   "metadata": {},
   "outputs": [],
   "source": [
    "percy.fit(X_train, y_train)"
   ]
  },
  {
   "cell_type": "markdown",
   "id": "94f4d394",
   "metadata": {},
   "source": [
    "## Evaluating the model"
   ]
  },
  {
   "cell_type": "code",
   "execution_count": 217,
   "id": "49c2909a",
   "metadata": {},
   "outputs": [],
   "source": [
    "predictions = percy.predict(X_test)"
   ]
  },
  {
   "cell_type": "markdown",
   "id": "26113226",
   "metadata": {},
   "source": [
    "#### Accuracy"
   ]
  },
  {
   "cell_type": "code",
   "execution_count": 218,
   "id": "5c47445e",
   "metadata": {},
   "outputs": [
    {
     "name": "stdout",
     "output_type": "stream",
     "text": [
      "Classification accuracy of the Perceptron 93.33\n"
     ]
    }
   ],
   "source": [
    "print(\"Classification accuracy of the Perceptron\", round(100 * accuracy(y_test, predictions), 2))"
   ]
  },
  {
   "cell_type": "markdown",
   "id": "c59eb456",
   "metadata": {},
   "source": [
    "#### Confusion matrix"
   ]
  },
  {
   "cell_type": "code",
   "execution_count": 219,
   "id": "dd72655c",
   "metadata": {},
   "outputs": [
    {
     "name": "stdout",
     "output_type": "stream",
     "text": [
      "[[15  0]\n",
      " [ 2 13]]\n"
     ]
    }
   ],
   "source": [
    "cm = confusion_matrix(y_test, predictions)\n",
    "print(cm)"
   ]
  },
  {
   "cell_type": "markdown",
   "id": "fac0272b",
   "metadata": {},
   "source": [
    "## Example(Prediction)"
   ]
  },
  {
   "cell_type": "code",
   "execution_count": 220,
   "id": "76a9ffaf",
   "metadata": {},
   "outputs": [],
   "source": [
    "def predictor(test):\n",
    "    pred = percy.predict(test)\n",
    "    if pred == 0:\n",
    "        print(\"Predicted Species: Versicolor\")\n",
    "    elif pred == 1:\n",
    "        print(\"Predicted Species: Virginica\")"
   ]
  },
  {
   "cell_type": "code",
   "execution_count": 221,
   "id": "989a7db1",
   "metadata": {},
   "outputs": [
    {
     "name": "stdout",
     "output_type": "stream",
     "text": [
      "[[9.  4.5 1.  3.2]]\n"
     ]
    }
   ],
   "source": [
    "sl = 9.0                                       #Sepal length\n",
    "sw = 4.5                                       #Sepal width\n",
    "pl = 1.0                                       #Petal length\n",
    "pw = 3.2                                       #Petal width\n",
    "testingVar = np.array([[sl, sw, pl, pw]])\n",
    "print(testingVar)"
   ]
  },
  {
   "cell_type": "code",
   "execution_count": 222,
   "id": "313f821d",
   "metadata": {},
   "outputs": [
    {
     "name": "stdout",
     "output_type": "stream",
     "text": [
      "Predicted Species: Versicolor\n"
     ]
    }
   ],
   "source": [
    "predictor(testingVar)"
   ]
  },
  {
   "cell_type": "code",
   "execution_count": null,
   "id": "cfc069b9",
   "metadata": {},
   "outputs": [],
   "source": []
  }
 ],
 "metadata": {
  "kernelspec": {
   "display_name": "Python 3 (ipykernel)",
   "language": "python",
   "name": "python3"
  },
  "language_info": {
   "codemirror_mode": {
    "name": "ipython",
    "version": 3
   },
   "file_extension": ".py",
   "mimetype": "text/x-python",
   "name": "python",
   "nbconvert_exporter": "python",
   "pygments_lexer": "ipython3",
   "version": "3.9.12"
  }
 },
 "nbformat": 4,
 "nbformat_minor": 5
}
